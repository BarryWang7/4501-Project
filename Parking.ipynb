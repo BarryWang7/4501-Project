{
 "cells": [
  {
   "cell_type": "code",
   "execution_count": 8,
   "id": "fa795580",
   "metadata": {},
   "outputs": [
    {
     "name": "stderr",
     "output_type": "stream",
     "text": [
      "C:\\Users\\crybl\\anaconda3\\lib\\site-packages\\IPython\\core\\interactiveshell.py:3165: DtypeWarning: Columns (20,31,32) have mixed types.Specify dtype option on import or set low_memory=False.\n",
      "  has_raised = await self.run_ast_nodes(code_ast.body, cell_name,\n"
     ]
    }
   ],
   "source": [
    "import pandas as pd\n",
    "df = pd.read_csv(\"311_Service_Requests_2020.csv\")"
   ]
  },
  {
   "cell_type": "code",
   "execution_count": 7,
   "id": "614ee54d",
   "metadata": {
    "scrolled": false
   },
   "outputs": [
    {
     "data": {
      "text/plain": [
       "False"
      ]
     },
     "execution_count": 7,
     "metadata": {},
     "output_type": "execute_result"
    }
   ],
   "source": [
    "zip_code = 10027.0\n",
    "a = df[df['Incident Zip']==zip_code] #filter the data using zipcode 10027\n",
    "b = a['Complaint Type'].value_counts() #count the number of every the complaint type\n",
    "c=b[\"Illegal Parking\"] #choose the Illegal Parking number\n",
    "d=b.sum() #calculate the total number of all incidents\n",
    "PA_10027 = c/d #calculate the ratio we needed in 10027 area\n",
    "e = df['Complaint Type'].value_counts() #count the number of every the complaint type in the whole city\n",
    "f = e[\"Illegal Parking\"] #choose the Illegal Parking number in the whole city\n",
    "g = e.sum() #calculate the total number of all incidents in the whole city\n",
    "PA_All=f/g #calculate the ratio we needed in the whole city\n",
    "higher_parking_proportion = PA_10027 > PA_All\n",
    "higher_parking_proportion"
   ]
  }
 ],
 "metadata": {
  "kernelspec": {
   "display_name": "Python 3",
   "language": "python",
   "name": "python3"
  },
  "language_info": {
   "codemirror_mode": {
    "name": "ipython",
    "version": 3
   },
   "file_extension": ".py",
   "mimetype": "text/x-python",
   "name": "python",
   "nbconvert_exporter": "python",
   "pygments_lexer": "ipython3",
   "version": "3.8.8"
  }
 },
 "nbformat": 4,
 "nbformat_minor": 5
}
